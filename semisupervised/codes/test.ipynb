{
 "cells": [
  {
   "cell_type": "code",
   "execution_count": 1,
   "source": [
    "import numpy as np\n",
    "import pandas as pd\n",
    "import argparse\n",
    "from icecream import ic\n",
    "\n",
    "def convert_clustering_to_net(clustering_result):\n",
    "    net = []\n",
    "    for i in range(clustering_result.shape[0]):\n",
    "        for item in clustering_result[i,]:\n",
    "            net.append([i, item, 1])\n",
    "    net = np.array(net)\n",
    "    return(net)\n",
    "\n",
    "\n",
    "def build_network(characteristic_file_path, method='knn'):\n",
    "    patient_characteristic = pd.read_csv(characteristic_file_path, header=0)\n",
    "    clustering_data = np.array(patient_characteristic.iloc[:,1:26])\n",
    "    # ic()\n",
    "    # ic(clustering_data)\n",
    "\n",
    "    from sklearn.metrics import silhouette_score\n",
    "    if method == 'knn':\n",
    "        from sklearn.neighbors import NearestNeighbors\n",
    "        print('knn is used for network building.')\n",
    "        \n",
    "        clustering_scores = []\n",
    "        for k in range(1,10):\n",
    "            neighbors = NearestNeighbors(n_neighbors=k, algorithm='ball_tree').fit(clustering_data)\n",
    "            distances, indices = neighbors.kneighbors(clustering_data)\n",
    "            clustering_scores[k-1] = silhouette_score(clustering_data, indices)\n",
    "        optimal_k = clustering_scores.index(max(clustering_scores))+1\n",
    "        print('The best performing k is', optimal_k)\n",
    "\n",
    "        neighbors = NearestNeighbors(n_neighbors=optimal_k, algorithm='ball_tree').fit(clustering_data)\n",
    "        distances, indices = neighbors.kneighbors(clustering_data)\n",
    "    net = convert_clustering_to_net(indices)\n",
    "    return(net)\n",
    "\n",
    "def main():\n",
    "    net = build_network('../data/covid/COVID_encoded.csv')\n",
    "    print('Saving network...')\n",
    "    np.savetxt('../data/covid/net.txt', net, fmt='%i', delimiter='\\t')\n",
    "    # ic(net)\n",
    "    # ic(clustering_result[1,])\n",
    "    # print(clustering_result)\n"
   ],
   "outputs": [],
   "metadata": {}
  },
  {
   "cell_type": "code",
   "execution_count": null,
   "source": [],
   "outputs": [],
   "metadata": {}
  },
  {
   "cell_type": "code",
   "execution_count": 51,
   "source": [
    "from sklearn.neighbors import NearestNeighbors\n",
    "neighbors = NearestNeighbors(n_neighbors=5, algorithm='ball_tree').fit(clustering_data)\n",
    "distances, indices = neighbors.kneighbors(clustering_data)\n",
    "\n",
    "net = convert_clustering_to_net(indices)\n",
    "net[,0]\n",
    "from scipy import sparse\n",
    "net = sparse.csr_matrix(net)\n",
    "print(net)"
   ],
   "outputs": [
    {
     "output_type": "stream",
     "name": "stdout",
     "text": [
      "[[  0   0   1]\n",
      " [  0  13   1]\n",
      " [  0  11   1]\n",
      " ...\n",
      " [104 102   1]\n",
      " [104  99   1]\n",
      " [104 103   1]]\n"
     ]
    }
   ],
   "metadata": {}
  },
  {
   "cell_type": "code",
   "execution_count": 71,
   "source": [
    "row = net[:, 0]\n",
    "column = net[:, 1]\n",
    "data = net[:,2]\n",
    "from scipy import sparse\n",
    "sparse_net = sparse.csr_matrix((data, (row, column)), shape=(105, 105))\n",
    "densed_net = sparse_net.toarray()"
   ],
   "outputs": [],
   "metadata": {}
  },
  {
   "cell_type": "code",
   "execution_count": 78,
   "source": [
    "print(densed_net[1,])\n",
    "# print(np.where(densed_net[0,] != 0)[1])\n",
    "# print(densed_net[0,])"
   ],
   "outputs": [
    {
     "output_type": "stream",
     "name": "stdout",
     "text": [
      "[1 1 0 0 0 0 0 0 0 0 0 1 0 1 1 0 0 0 0 0 0 0 0 0 0 0 0 0 0 0 0 0 0 0 0 0 0\n",
      " 0 0 0 0 0 0 0 0 0 0 0 0 0 0 0 0 0 0 0 0 0 0 0 0 0 0 0 0 0 0 0 0 0 0 0 0 0\n",
      " 0 0 0 0 0 0 0 0 0 0 0 0 0 0 0 0 0 0 0 0 0 0 0 0 0 0 0 0 0 0 0]\n"
     ]
    }
   ],
   "metadata": {}
  },
  {
   "cell_type": "code",
   "execution_count": 83,
   "source": [
    "clustering_assignment = np.zeros(net.shape[0])\n",
    "group_count = 1\n",
    "round_finished = False"
   ],
   "outputs": [],
   "metadata": {}
  },
  {
   "cell_type": "code",
   "execution_count": 38,
   "source": [
    "used_index = []\n",
    "for i in range(densed_net.shape[0]):\n",
    "    if i in used_index:\n",
    "        continue\n",
    "    else:\n",
    "        while round_finished == False:\n",
    "            current_non_zero_index = np.where(densed_net[i,] != 0)[1]\n",
    "            related_samples = current_non_zero_index\n",
    "            clustering_assignment[current_non_zero_index] = group_count\n",
    "            group_count += 1\n",
    "            print(current_non_zero_index)\n",
    "        # used_index.append(current_non_zero_index)\n",
    "        # print('no ok')"
   ],
   "outputs": [
    {
     "output_type": "stream",
     "name": "stdout",
     "text": [
      "[ 1 11 13 16 18]\n",
      "[ 0  4 11 13 14]\n",
      "[12 19 27 28 36]\n",
      "[29 31 37 38 42]\n",
      "[ 6 15 21 22 25]\n",
      "[ 9 19 28 33 34]\n",
      "[ 4 15 21 22 25]\n",
      "[39 41 43 46 51]\n",
      "[20 26 30 32 50]\n",
      "[27 33 34 42 44]\n",
      "[52 54 55 57 62]\n",
      "[ 0  1 13 14 17]\n",
      "[ 2  5 19 28 36]\n",
      "[ 0 16 17 18 23]\n",
      "[11 17 18 23 24]\n",
      "[ 4  6 21 22 25]\n",
      "[13 17 18 23 24]\n",
      "[13 16 18 23 24]\n",
      "[13 16 17 23 24]\n",
      "[ 2 12 28 33 36]\n",
      "[ 8 26 30 50 56]\n",
      "[ 6 22 25 32 35]\n",
      "[ 6 21 25 32 35]\n",
      "[13 16 17 18 24]\n",
      "[14 16 17 18 23]\n",
      "[ 6 21 22 32 35]\n",
      "[ 8 20 27 30 56]\n",
      "[ 9 28 33 44 49]\n",
      "[12 19 27 33 36]\n",
      "[31 38 42 45 47]\n",
      "[ 8 26 32 51 53]\n",
      "[14 29 37 38 42]\n",
      "[21 25 35 40 43]\n",
      "[ 9 27 34 44 49]\n",
      "[ 9 33 38 42 44]\n",
      "[21 25 32 40 43]\n",
      "[12 19 27 28 49]\n",
      "[31 34 38 42 48]\n",
      "[31 37 42 47 48]\n",
      "[41 52 55 62 66]\n",
      "[32 35 43 46 51]\n",
      "[ 7 39 67 71 74]\n",
      "[31 37 38 47 48]\n",
      "[32 40 46 51 53]\n",
      "[ 9 34 47 48 49]\n",
      "[29 47 48 54 57]\n",
      "[32 40 43 51 53]\n",
      "[38 42 45 48 54]\n",
      "[42 44 47 54 57]\n",
      "[ 9 44 54 57 58]\n",
      "[56 59 65 71 74]\n",
      "[40 43 46 53 61]\n",
      "[55 60 62 64 68]\n",
      "[40 43 46 51 61]\n",
      "[45 47 48 55 57]\n",
      "[52 54 57 60 64]\n",
      "[50 59 66 69 72]\n",
      "[47 54 55 60 64]\n",
      "[49 63 64 68 70]\n",
      "[50 56 65 72 73]\n",
      "[54 55 57 64 68]\n",
      "[66 68 69 70 72]\n",
      "[52 55 70 75 77]\n",
      "[56 58 70 75 76]\n",
      "[55 57 60 68 70]\n",
      "[67 69 71 73 74]\n",
      "[61 69 70 72 73]\n",
      "[65 66 69 71 74]\n",
      "[60 64 70 75 77]\n",
      "[61 66 72 73 75]\n",
      "[64 68 72 75 77]\n",
      "[65 67 69 73 74]\n",
      "[66 69 73 75 77]\n",
      "[66 69 72 75 77]\n",
      "[65 67 69 71 73]\n",
      "[72 73 77 78 79]\n",
      "[79 81 82 83 86]\n",
      "[72 75 78 79 81]\n",
      "[75 77 79 81 83]\n",
      "[75 77 78 81 83]\n",
      "[82 88 89 91 92]\n",
      "[77 78 79 83 85]\n",
      "[76 80 85 86 88]\n",
      "[79 81 85 86 88]\n",
      "[81 85 87 88 89]\n",
      "[81 84 87 88 89]\n",
      "[81 83 85 88 89]\n",
      "[84 85 88 89 91]\n",
      "[86 87 89 91 92]\n",
      "[86 87 88 91 92]\n",
      "[91 92 94 96 97]\n",
      "[87 88 89 92 94]\n",
      "[88 89 91 94 95]\n",
      "[ 99 101 102 103 104]\n",
      "[91 92 95 97 98]\n",
      "[ 92  94  97  98 100]\n",
      "[ 94  97  98  99 101]\n",
      "[94 95 96 98 99]\n",
      "[ 94  95  96  97 101]\n",
      "[ 97  98 101 102 104]\n",
      "[ 97  98 101 102 103]\n",
      "[ 97  98 100 103 104]\n",
      "[ 99 100 101 103 104]\n",
      "[ 98 100 101 102 104]\n",
      "[ 99 100 101 102 103]\n"
     ]
    }
   ],
   "metadata": {}
  },
  {
   "cell_type": "code",
   "execution_count": 37,
   "source": [
    "used_index = []\n",
    "for i in range(densed_net.shape[0]):\n",
    "    if i in used_index:\n",
    "        continue\n",
    "    else:\n",
    "        current_non_zero_index = np.where(densed_net[i,] != 0)[1]\n",
    "        clustering_assignment[current_non_zero_index] = group_count\n",
    "        group_count += 1"
   ],
   "outputs": [],
   "metadata": {}
  },
  {
   "cell_type": "code",
   "execution_count": 82,
   "source": [
    "x = np.random.rand(10,2)\n",
    "neighbors = NearestNeighbors(n_neighbors=3, algorithm='ball_tree').fit(x)\n",
    "distances, indices = neighbors.kneighbors(x)\n",
    "\n",
    "print(indices)"
   ],
   "outputs": [
    {
     "output_type": "stream",
     "name": "stdout",
     "text": [
      "[[0 4 1]\n",
      " [1 0 4]\n",
      " [2 6 9]\n",
      " [3 5 9]\n",
      " [4 0 1]\n",
      " [5 9 1]\n",
      " [6 2 9]\n",
      " [7 5 1]\n",
      " [8 0 4]\n",
      " [9 2 6]]\n"
     ]
    }
   ],
   "metadata": {}
  },
  {
   "cell_type": "code",
   "execution_count": 4,
   "source": [
    "feature_file = open('../data/covid/feature.txt', 'a')\n",
    "feature_file.write(str(0)+'\\t')\n",
    "feature_file.close()"
   ],
   "outputs": [],
   "metadata": {}
  }
 ],
 "metadata": {
  "orig_nbformat": 4,
  "language_info": {
   "name": "python",
   "version": "3.6.12",
   "mimetype": "text/x-python",
   "codemirror_mode": {
    "name": "ipython",
    "version": 3
   },
   "pygments_lexer": "ipython3",
   "nbconvert_exporter": "python",
   "file_extension": ".py"
  },
  "kernelspec": {
   "name": "python3",
   "display_name": "Python 3.6.12 64-bit ('3.6.12': pyenv)"
  },
  "interpreter": {
   "hash": "ba4b3a057820737c4985b775749a4502caa4be1d4155bb3a8bc7392e2ef04647"
  }
 },
 "nbformat": 4,
 "nbformat_minor": 2
}